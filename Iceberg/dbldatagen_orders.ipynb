{
 "cells": [
  {
   "cell_type": "code",
   "execution_count": null,
   "metadata": {},
   "outputs": [],
   "source": [
    "#!pip install dbldatagen\n",
    "#!pip install jmespath"
   ]
  },
  {
   "cell_type": "code",
   "execution_count": null,
   "metadata": {},
   "outputs": [],
   "source": [
    "import import_ipynb\n",
    "%run  ../Configuration.ipynb"
   ]
  },
  {
   "cell_type": "code",
   "execution_count": null,
   "metadata": {},
   "outputs": [],
   "source": [
    "import dbldatagen as dg\n",
    "from pyspark.sql import functions as F\n",
    "from pyspark.sql.types import (\n",
    "    IntegerType, FloatType, StringType, TimestampType,\n",
    "    StructField, BooleanType, StructType, ArrayType, DecimalType\n",
    "    )"
   ]
  },
  {
   "cell_type": "code",
   "execution_count": null,
   "metadata": {},
   "outputs": [],
   "source": [
    "# Number of rows to generate (1 billion)\n",
    "row_count = 1_000\n",
    "data_spec = (\n",
    "    dg.DataGenerator(name=\"orders\", rows=row_count)\n",
    "    .withIdOutput()\n",
    "    .withColumn(\"order_id\", IntegerType(), minValue=1, maxValue=100_000_000)\n",
    "    .withColumn(\"customer_id\", IntegerType(), minValue=1, maxValue=100_000_000)\n",
    "    .withColumn(\"order_amount\", FloatType(), minValue=1.0, maxValue=5000.0, random=True)\n",
    "    .withColumn(\"order_ts\", TimestampType(), begin=\"2022-01-01 00:00:00\", end=\"2022-12-31 23:59:59\")\n",
    ")"
   ]
  },
  {
   "cell_type": "code",
   "execution_count": null,
   "metadata": {},
   "outputs": [],
   "source": [
    "# Build the DataFrame\n",
    "df_orders = data_spec.build()\n",
    "# Verify the row count\n",
    "print(f\"Total Rows: {df_orders.count()}\")"
   ]
  },
  {
   "cell_type": "code",
   "execution_count": null,
   "metadata": {},
   "outputs": [],
   "source": [
    "df_orders.show(5)"
   ]
  },
  {
   "cell_type": "code",
   "execution_count": null,
   "metadata": {},
   "outputs": [],
   "source": [
    "df_orders.count()"
   ]
  },
  {
   "cell_type": "code",
   "execution_count": null,
   "metadata": {},
   "outputs": [],
   "source": [
    "df_orders.printSchema()"
   ]
  },
  {
   "cell_type": "code",
   "execution_count": null,
   "metadata": {},
   "outputs": [],
   "source": [
    "spark.sql(\"\"\"\n",
    "CREATE TABLE IF NOT EXISTS iceberg_catalog.db2.table_MOR ( \n",
    "order_id BIGINT, \n",
    "customer_id BIGINT, \n",
    "order_amount DECIMAL(10, 2), \n",
    "order_ts TIMESTAMP \n",
    ")TBLPROPERTIES ( \n",
    " 'write.format.default'='parquet', \n",
    " 'write.delete.mode'='merge-on-read',\n",
    " 'write.update.mode'='merge-on-read',\n",
    " 'write.merge.mode'='merge-on-read', \n",
    " 'format-version' = '2') \n",
    " \"\"\"\n",
    ")"
   ]
  },
  {
   "cell_type": "code",
   "execution_count": null,
   "metadata": {},
   "outputs": [],
   "source": [
    "df_orders.createOrReplaceTempView(\"tmp_tbl\")"
   ]
  },
  {
   "cell_type": "code",
   "execution_count": null,
   "metadata": {},
   "outputs": [],
   "source": [
    "spark.sql(\"\"\"select order_id,customer_id,order_amount,order_ts\n",
    "from tmp_tbl  \"\"\").show(5,100)"
   ]
  },
  {
   "cell_type": "code",
   "execution_count": null,
   "metadata": {},
   "outputs": [],
   "source": [
    "df_orders.writeTo(\"iceberg_catalog.db2.table_MOR\").using(\"iceberg\").createOrReplace()"
   ]
  },
  {
   "cell_type": "code",
   "execution_count": null,
   "metadata": {},
   "outputs": [],
   "source": [
    "spark.sql(\"\"\"select * \n",
    "from iceberg_catalog.db2.table_MOR\n",
    "limit 10\"\"\").show(100,100)"
   ]
  },
  {
   "cell_type": "code",
   "execution_count": null,
   "metadata": {},
   "outputs": [],
   "source": []
  }
 ],
 "metadata": {
  "kernelspec": {
   "display_name": "Python 3 (ipykernel)",
   "language": "python",
   "name": "python3"
  },
  "language_info": {
   "codemirror_mode": {
    "name": "ipython",
    "version": 3
   },
   "file_extension": ".py",
   "mimetype": "text/x-python",
   "name": "python",
   "nbconvert_exporter": "python",
   "pygments_lexer": "ipython3",
   "version": "3.9.1"
  }
 },
 "nbformat": 4,
 "nbformat_minor": 4
}
