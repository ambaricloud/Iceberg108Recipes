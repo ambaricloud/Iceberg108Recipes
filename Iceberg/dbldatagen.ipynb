{
 "cells": [
  {
   "cell_type": "code",
   "execution_count": null,
   "metadata": {},
   "outputs": [],
   "source": [
    "#!pip install dbldatagen\n",
    "#!pip install jmespath"
   ]
  },
  {
   "cell_type": "code",
   "execution_count": null,
   "metadata": {},
   "outputs": [],
   "source": [
    "import import_ipynb\n",
    "%run  ../Configuration.ipynb"
   ]
  },
  {
   "cell_type": "code",
   "execution_count": null,
   "metadata": {},
   "outputs": [],
   "source": [
    "import dbldatagen as dg\n",
    "from pyspark.sql import functions as F\n",
    "from pyspark.sql.types import (\n",
    "    IntegerType, FloatType, StringType, TimestampType,\n",
    "    StructField, BooleanType, StructType, ArrayType, DecimalType\n",
    "    )"
   ]
  },
  {
   "cell_type": "code",
   "execution_count": null,
   "metadata": {},
   "outputs": [],
   "source": [
    "# Number of rows to generate (1 billion)\n",
    "row_count = 1_000\n",
    "\n",
    "data_spec = (\n",
    "    dg.DataGenerator(name=\"transactions\", rows=row_count)\n",
    "    .withIdOutput()\n",
    "    .withColumn(\"user_id\", IntegerType(), minValue=1, maxValue=100_000_000)\n",
    "    .withColumn(\"transaction_amount\", FloatType(), minValue=1.0, maxValue=5000.0, random=True)\n",
    "    .withColumn(\"transaction_date\", TimestampType(), begin=\"2022-01-01 00:00:00\", end=\"2022-12-31 23:59:59\")\n",
    "    .withColumn(\"product_category\", StringType(), values=[\"Electronics\", \"Books\", \"Clothing\", \"Home\", \"Toys\", \"Sports\", \"Automotive\"], random=True)\n",
    "    # Add a Boolean column\n",
    "    .withColumn(\"is_returned\", BooleanType(), expr=\"transaction_amount < 100 AND rand() < 0.05\")\n",
    "    # Add an Array column\n",
    "    .withColumn(\"tags\", ArrayType(StringType()), expr=\"array(product_category, substr(transaction_date, 0, 10))\")\n",
    "    # Add a Struct column\n",
    "    .withColumn(\"shipping_address\", StructType([\n",
    "        StructField(\"street\", StringType(), True),\n",
    "        StructField(\"city\", StringType(), True),\n",
    "        StructField(\"state\", StringType(), True),\n",
    "        StructField(\"zip\", StringType(), True)\n",
    "    ]), expr=\"\"\"\n",
    "        named_struct(\n",
    "            'street', concat(cast(rand() * 9999 as INT), ' Main St'),\n",
    "            'city', element_at(array('New York', 'Los Angeles', 'Chicago', 'Houston', 'Phoenix'), cast(rand() * 5 + 1 as INT)),\n",
    "            'state', element_at(array('NY', 'CA', 'IL', 'TX', 'AZ'), cast(rand() * 5 + 1 as INT)),\n",
    "            'zip', concat(cast(rand() * 89999 + 10000 as INT))\n",
    "        )\n",
    "    \"\"\")\n",
    "    # Add a Decimal column\n",
    "    .withColumn(\"tax\", DecimalType(5, 2), expr=\"transaction_amount * 0.08\")\n",
    "    # Add a Date column\n",
    "    .withColumn(\"delivery_date\", TimestampType(), expr=\"date_add(transaction_date, cast(rand() * 7 as INT))\")\n",
    "    # Add a Column with Skewed Data\n",
    "    .withColumn(\"payment_method\", StringType(), values=[\"Credit Card\"] * 80 + [\"PayPal\"] * 15 + [\"Bitcoin\"] * 5, random=True)\n",
    "    # Introduce Null Values\n",
    "    .withColumn(\"coupon_code\", StringType(), expr=\"CASE WHEN rand() < 0.2 THEN concat('SAVE', cast(rand() * 100 as INT)) ELSE NULL END\")\n",
    "    # Add a Column with Dependent Values\n",
    "    .withColumn(\"loyalty_points\", IntegerType(), expr=\"CASE WHEN user_id % 2 = 0 THEN cast(transaction_amount / 10 as INT) ELSE 0 END\")\n",
    "    # Add a Nested Array of Structs\n",
    "    .withColumn(\"items\", ArrayType(StructType([\n",
    "        StructField(\"item_id\", IntegerType(), True),\n",
    "        StructField(\"quantity\", IntegerType(), True),\n",
    "        StructField(\"price\", FloatType(), True)\n",
    "    ])), expr=\"\"\"\n",
    "        array(\n",
    "            named_struct('item_id', cast(rand() * 1000 as INT), 'quantity', cast(rand() * 5 + 1 as INT), 'price', rand() * 100),\n",
    "            named_struct('item_id', cast(rand() * 1000 as INT), 'quantity', cast(rand() * 5 + 1 as INT), 'price', rand() * 100)\n",
    "        )\n",
    "    \"\"\")\n",
    "    # Add a Geospatial Data Column\n",
    "    .withColumn(\"location\", StringType(), expr=\"concat(cast(rand() * 180 - 90 as STRING), ', ', cast(rand() * 360 - 180 as STRING))\")\n",
    ")"
   ]
  },
  {
   "cell_type": "code",
   "execution_count": null,
   "metadata": {},
   "outputs": [],
   "source": [
    "# Build the DataFrame\n",
    "df_transactions = data_spec.build()\n",
    "\n",
    "# Verify the row count\n",
    "print(f\"Total Rows: {df_transactions.count()}\")"
   ]
  },
  {
   "cell_type": "code",
   "execution_count": null,
   "metadata": {},
   "outputs": [],
   "source": [
    "df_transactions.show(5)"
   ]
  },
  {
   "cell_type": "code",
   "execution_count": null,
   "metadata": {},
   "outputs": [],
   "source": [
    "df_transactions.printSchema()"
   ]
  },
  {
   "cell_type": "code",
   "execution_count": null,
   "metadata": {},
   "outputs": [],
   "source": []
  }
 ],
 "metadata": {
  "kernelspec": {
   "display_name": "Python 3 (ipykernel)",
   "language": "python",
   "name": "python3"
  },
  "language_info": {
   "codemirror_mode": {
    "name": "ipython",
    "version": 3
   },
   "file_extension": ".py",
   "mimetype": "text/x-python",
   "name": "python",
   "nbconvert_exporter": "python",
   "pygments_lexer": "ipython3",
   "version": "3.9.1"
  }
 },
 "nbformat": 4,
 "nbformat_minor": 4
}
