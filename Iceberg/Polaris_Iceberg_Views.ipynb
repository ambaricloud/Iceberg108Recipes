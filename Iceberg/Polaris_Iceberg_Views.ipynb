{
 "cells": [
  {
   "cell_type": "markdown",
   "id": "8818b169",
   "metadata": {},
   "source": [
    "# Iceberg Table Views"
   ]
  },
  {
   "cell_type": "markdown",
   "id": "b349b713",
   "metadata": {},
   "source": [
    "## Start Polaris Spark Session"
   ]
  },
  {
   "cell_type": "code",
   "execution_count": null,
   "id": "df211a25",
   "metadata": {},
   "outputs": [],
   "source": [
    "import os\n",
    "from dotenv import load_dotenv\n",
    "load_dotenv()\n",
    "import json\n",
    "import pandas as pd\n",
    "import boto3\n",
    "import snowflake.connector\n",
    "from pyspark.sql import SparkSession, DataFrame"
   ]
  },
  {
   "cell_type": "code",
   "execution_count": null,
   "id": "42f29627",
   "metadata": {},
   "outputs": [],
   "source": [
    "polaris_uri=os.getenv(\"POLARIS_URI\")\n",
    "polaris_credential=os.getenv(\"POLARIS_CREDENTIAL\")\n",
    "aws_key=os.getenv(\"AWS_ACCESS_KEY_ID\")\n",
    "aws_secret_key=os.getenv(\"AWS_SECRET_ACCESS_KEY\")\n",
    "aws_region=os.getenv(\"AWS_REGION\")"
   ]
  },
  {
   "cell_type": "code",
   "execution_count": null,
   "id": "5dd2e35a",
   "metadata": {},
   "outputs": [],
   "source": [
    "os.environ['PACKAGES'] = \"org.apache.hadoop:hadoop-aws:3.3.4,org.apache.iceberg:iceberg-spark-runtime-3.5_2.12:1.7.0,software.amazon.awssdk:bundle:2.20.160,software.amazon.awssdk:url-connection-client:2.20.160\"\n"
   ]
  },
  {
   "cell_type": "code",
   "execution_count": null,
   "id": "f1b1ce7b",
   "metadata": {},
   "outputs": [],
   "source": [
    "def polaris_spark_session():\n",
    "    \"\"\"Initialize SparkSession with Iceberg support.\"\"\"\n",
    "    from pyspark.sql import SparkSession, DataFrame\n",
    "    spark = SparkSession.builder.appName('migration')\\\n",
    "    .config('spark.jars.packages', os.environ['PACKAGES'])\\\n",
    "    .config(\"spark.sql.extensions\", \"org.apache.iceberg.spark.extensions.IcebergSparkSessionExtensions\") \\\n",
    "    .config('spark.sql.defaultCatalog','polaris')\\\n",
    "    .config('spark.sql.catalog.polaris','org.apache.iceberg.spark.SparkCatalog')\\\n",
    "    .config('spark.sql.catalog.polaris.type','rest')\\\n",
    "    .config('spark.sql.catalog.polaris.header.X-Iceberg-Access-Delegation','true')\\\n",
    "    .config('spark.sql.catalog.polaris.uri',polaris_uri)\\\n",
    "    .config('spark.sql.catalog.polaris.credential',polaris_credential)\\\n",
    "    .config('spark.sql.catalog.polaris.warehouse','ambari_prod')\\\n",
    "    .config('spark.sql.catalog.polaris.scope','PRINCIPAL_ROLE:ALL')\\\n",
    "    .config('spark.sql.catalog.polaris.client.region',aws_region)\\\n",
    "    .config('spark.hadoop.fs.s3a.access.key',aws_key )\\\n",
    "    .config('spark.hadoop.fs.s3a.secret.key',aws_secret_key )\\\n",
    "    .config('spark.hadoop.fs.s3.impl','org.apache.hadoop.fs.s3a.S3AFileSystem' )\\\n",
    "    .getOrCreate()\n",
    "    return spark "
   ]
  },
  {
   "cell_type": "code",
   "execution_count": null,
   "id": "7ebb0427",
   "metadata": {},
   "outputs": [],
   "source": [
    "spark_polaris=polaris_spark_session()"
   ]
  },
  {
   "cell_type": "code",
   "execution_count": null,
   "id": "5b344290",
   "metadata": {},
   "outputs": [],
   "source": [
    "spark_polaris.sql(\"\"\"use polaris.sales \"\"\").show(100,100)"
   ]
  },
  {
   "cell_type": "code",
   "execution_count": null,
   "id": "85a4d38b",
   "metadata": {},
   "outputs": [],
   "source": [
    "spark_polaris.sql(\"\"\"SHOW Tables  \"\"\").show(100,100)"
   ]
  },
  {
   "cell_type": "code",
   "execution_count": null,
   "id": "d95660b2",
   "metadata": {},
   "outputs": [],
   "source": [
    "spark_polaris.sql(\"\"\"Desc  extended polaris.sales.all_data_types \"\"\").show(100,100)"
   ]
  },
  {
   "cell_type": "code",
   "execution_count": null,
   "id": "6e980ed5",
   "metadata": {},
   "outputs": [],
   "source": [
    "spark_polaris.sql(\"\"\"select count(*) from polaris.sales.all_data_types \"\"\").show(100,100)"
   ]
  },
  {
   "cell_type": "code",
   "execution_count": null,
   "id": "2bcae524",
   "metadata": {},
   "outputs": [],
   "source": [
    "spark_polaris.sql(\"\"\"SHOW VIEWs  \"\"\").show(100,100)"
   ]
  },
  {
   "cell_type": "markdown",
   "id": "7932916b",
   "metadata": {},
   "source": [
    "## Create Iceberg Views"
   ]
  },
  {
   "cell_type": "code",
   "execution_count": null,
   "id": "b37d97ce",
   "metadata": {},
   "outputs": [],
   "source": [
    "spark_polaris.sql(\"\"\"DROP VIEW if exists polaris.sales.all_data_types_view \"\"\")"
   ]
  },
  {
   "cell_type": "code",
   "execution_count": null,
   "id": "a90874fe",
   "metadata": {},
   "outputs": [],
   "source": [
    "spark_polaris.sql(\"\"\"CREATE OR REPLACE VIEW polaris.sales.all_data_types_view \n",
    "AS\n",
    "SELECT COUNT(*) FROM polaris.sales.all_data_types\"\"\")\n"
   ]
  },
  {
   "cell_type": "code",
   "execution_count": null,
   "id": "5371e37d",
   "metadata": {},
   "outputs": [],
   "source": [
    "spark_polaris.sql(\"\"\"SELECT * FROM polaris.sales.all_data_types_view \"\"\").show(100,100)"
   ]
  },
  {
   "cell_type": "code",
   "execution_count": null,
   "id": "f297aba2",
   "metadata": {},
   "outputs": [],
   "source": [
    "spark_polaris.sql(\"\"\"insert into polaris.sales.all_data_types\n",
    "SELECT * FROM polaris.sales.all_data_types\"\"\")"
   ]
  },
  {
   "cell_type": "code",
   "execution_count": null,
   "id": "d68978fc",
   "metadata": {},
   "outputs": [],
   "source": [
    "spark_polaris.sql(\"\"\"SELECT * FROM polaris.sales.all_data_types_view \"\"\").show(100,100)"
   ]
  },
  {
   "cell_type": "markdown",
   "id": "6bceab39",
   "metadata": {},
   "source": [
    "# Time Travel on Table"
   ]
  },
  {
   "cell_type": "code",
   "execution_count": null,
   "id": "2a3728a9",
   "metadata": {},
   "outputs": [],
   "source": [
    "spark_polaris.sql(f\"\"\"\n",
    "    SELECT committed_at, snapshot_id, parent_id \n",
    "    FROM polaris.sales.all_data_types.snapshots \n",
    "    ORDER BY committed_at DESC\n",
    "\"\"\").show(100, 300)\n"
   ]
  },
  {
   "cell_type": "code",
   "execution_count": null,
   "id": "22c0cd5d",
   "metadata": {},
   "outputs": [],
   "source": [
    "spark_polaris.sql(f\"\"\" SELECT count(*) FROM \n",
    "polaris.sales.all_data_types\n",
    "FOR SYSTEM_TIME AS OF  '2025-02-09 09:19:13.659' \"\"\").show(100, 300)"
   ]
  },
  {
   "cell_type": "code",
   "execution_count": null,
   "id": "87b8eb4b",
   "metadata": {},
   "outputs": [],
   "source": []
  },
  {
   "cell_type": "markdown",
   "id": "d8710d31",
   "metadata": {},
   "source": [
    "# Time Travel on Views"
   ]
  },
  {
   "cell_type": "code",
   "execution_count": null,
   "id": "e2e50c86",
   "metadata": {},
   "outputs": [],
   "source": [
    "spark_polaris.sql(f\"\"\"\n",
    "    SELECT committed_at, snapshot_id, parent_id \n",
    "    FROM polaris.sales.all_data_types.snapshots \n",
    "    ORDER BY committed_at DESC\n",
    "\"\"\").show(100, 300)\n"
   ]
  },
  {
   "cell_type": "code",
   "execution_count": null,
   "id": "52147750",
   "metadata": {},
   "outputs": [],
   "source": [
    "spark_polaris.sql(f\"\"\" SELECT * FROM polaris.sales.all_data_types_view\n",
    "FOR SYSTEM_TIME AS OF  '2025-02-09 09:19:25.21' \"\"\").show(100, 300)\n"
   ]
  },
  {
   "cell_type": "code",
   "execution_count": null,
   "id": "f7e9df17",
   "metadata": {},
   "outputs": [],
   "source": []
  }
 ],
 "metadata": {
  "kernelspec": {
   "display_name": "Python 3 (ipykernel)",
   "language": "python",
   "name": "python3"
  },
  "language_info": {
   "codemirror_mode": {
    "name": "ipython",
    "version": 3
   },
   "file_extension": ".py",
   "mimetype": "text/x-python",
   "name": "python",
   "nbconvert_exporter": "python",
   "pygments_lexer": "ipython3",
   "version": "3.9.1"
  }
 },
 "nbformat": 4,
 "nbformat_minor": 5
}
